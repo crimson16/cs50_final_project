{
 "metadata": {
  "name": "",
  "signature": "sha256:88907dc6189c3f124524762213e25fce15a5ec7c6aa99be527747b05ac8237a0"
 },
 "nbformat": 3,
 "nbformat_minor": 0,
 "worksheets": [
  {
   "cells": [
    {
     "cell_type": "heading",
     "level": 6,
     "metadata": {},
     "source": [
      "we want to return the poll for a given state:\n",
      "\n",
      "base url = http://elections.huffingtonpost.com/pollster/api/polls\n",
      "    on request we want to return the election results \n",
      "    \n",
      "    \n",
      "we should have a models thing where for a state you have all of the polls that are relevant\n",
      "\n",
      "import requests \n",
      "from StringIO import StringIO\n",
      "\n",
      "Things that we want:\n",
      "    + election polls - \n",
      "    + presidential election\n",
      "    + governer election\n",
      "    + senate\n",
      "    + representatives\n",
      "\n",
      "Ammendments near you \n",
      "    Local government\n",
      "\n",
      "\n",
      "\n",
      "\n",
      "\n"
     ]
    },
    {
     "cell_type": "code",
     "collapsed": false,
     "input": [
      "# http://elections.huffingtonpost.com/pollster/api/polls\n",
      "import pandas as pd\n",
      "import requests \n",
      "from StringIO import StringIO   \n",
      "url_str = \"http://elections.huffingtonpost.com/pollster/api/charts/?topic=2014-senate\"\n",
      "\n",
      "# url_str = \"http://elections.huffingtonpost.com/pollster/api/charts/?topic=2012-president\"\n",
      "\n",
      "source = requests.get(url_str).json()\n",
      "# s = StringIO(source)\n"
     ],
     "language": "python",
     "metadata": {},
     "outputs": [],
     "prompt_number": 44
    },
    {
     "cell_type": "code",
     "collapsed": false,
     "input": [
      "# source[1\n",
      "source[1]\n",
      "\n",
      "# pd.DataFrame.from_csv(s, index_col=None).convert_objects(\n",
      "#             convert_dates=\"coerce\", convert_numeric=True)"
     ],
     "language": "python",
     "metadata": {},
     "outputs": [
      {
       "metadata": {},
       "output_type": "pyout",
       "prompt_number": 45,
       "text": [
        "{u'election_date': u'2014-11-04',\n",
        " u'estimates': [{u'choice': u'Cotton',\n",
        "   u'first_name': u'Tom',\n",
        "   u'incumbent': False,\n",
        "   u'last_name': u'Cotton',\n",
        "   u'lead_confidence': 99.9,\n",
        "   u'party': u'Rep',\n",
        "   u'value': 51.7},\n",
        "  {u'choice': u'Pryor',\n",
        "   u'first_name': u'Mark',\n",
        "   u'incumbent': True,\n",
        "   u'last_name': u'Pryor',\n",
        "   u'lead_confidence': 0.0,\n",
        "   u'party': u'Dem',\n",
        "   u'value': 45.6}],\n",
        " u'last_updated': u'2014-11-02T01:46:46.000Z',\n",
        " u'poll_count': 61,\n",
        " u'short_title': u'2014 Arkansas Senate',\n",
        " u'slug': u'2014-arkansas-senate-cotton-vs-pryor',\n",
        " u'state': u'AR',\n",
        " u'title': u'2014 Arkansas Senate: Cotton vs. Pryor',\n",
        " u'topic': u'2014-senate',\n",
        " u'url': u'http://elections.huffingtonpost.com/pollster/2014-arkansas-senate-cotton-vs-pryor'}"
       ]
      }
     ],
     "prompt_number": 45
    },
    {
     "cell_type": "heading",
     "level": 2,
     "metadata": {},
     "source": [
      "for poll in senate_polls:\n",
      "    for person in poll[\"estimate\"]:\n",
      "        if person.party == \"Rep\"\n",
      "            _rep_name_first = person[\"first_name\"]\n",
      "            _rep_name_last = person[\"last_name\"]\n",
      "            _is_incumb = person[\"incumbent\"]\n",
      "            _rep_val = person.value\n",
      "        if person.party == \"Dem\"\n",
      "            _Dem_name_first = person[\"first_name\"]\n",
      "            _Dem_name_last = person[\"last_name\"]\n",
      "            _is_incumb = person[\"incumbent\"]\n",
      "        \n",
      "    \n",
      "        \n",
      "\n",
      "\n",
      "\n",
      "\n",
      "SenateStats(election_date = poll[\"election_date\"],\n",
      "                last_updated = poll[\"last_updated\"],\n",
      "                poll_count = poll[\"poll_count\"],\n",
      "                short_title = poll[\"short_title\"],\n",
      "                slug = poll[\"slug\"],\n",
      "                state = poll[\"state\"],\n",
      "                title = poll[\"title\"],\n",
      "                topic = poll[\"topic\"],\n",
      "                url = poll[\"url\"],\n",
      "    \n",
      "\n",
      "    topic = poll[\"\n",
      "    \n",
      "  \n",
      "p = SenateStats(poll=SenatePoll.objects.all()[0], percent_lead=\"10.5\", votes= \"10\", republican =\"huck\", democrat = \"poop\", other = \"qwert\", url = \"fuck.com\")"
     ]
    }
   ],
   "metadata": {}
  }
 ]
}